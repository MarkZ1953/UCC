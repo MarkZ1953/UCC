{
 "cells": [
  {
   "cell_type": "markdown",
   "metadata": {},
   "source": [
    "Connected to Python 3.12.3"
   ]
  },
  {
   "cell_type": "markdown",
   "metadata": {},
   "source": [
    "# Chain Of Responsability"
   ]
  },
  {
   "cell_type": "markdown",
   "metadata": {},
   "source": [
    "## ¿Que es?"
   ]
  },
  {
   "cell_type": "markdown",
   "metadata": {},
   "source": [
    "Este patrón permite que varios objetos manejen una solicitud sin que el remitente explícitamente sepa cuál manejará. Los objetos se encadenan y pasan la solicitud a lo largo de la cadena hasta que uno la maneje."
   ]
  },
  {
   "cell_type": "markdown",
   "metadata": {},
   "source": [
    "## Ejemplo:"
   ]
  },
  {
   "cell_type": "code",
   "execution_count": null,
   "metadata": {},
   "outputs": [],
   "source": [
    "class Handler:\n",
    "    def __init__(self, successor=None):\n",
    "        self.successor = successor\n",
    "\n",
    "    def handle_request(self, request):\n",
    "        if self.successor:\n",
    "            self.successor.handle_request(request)\n",
    "\n",
    "class ConcreteHandlerA(Handler):\n",
    "    def handle_request(self, request):\n",
    "        if request == 'A':\n",
    "            print(\"ConcreteHandlerA handles the request.\")\n",
    "        else:\n",
    "            super().handle_request(request)\n",
    "\n",
    "class ConcreteHandlerB(Handler):\n",
    "    def handle_request(self, request):\n",
    "        if request == 'B':\n",
    "            print(\"ConcreteHandlerB handles the request.\")\n",
    "        else:\n",
    "            super().handle_request(request)\n",
    "\n",
    "handler_a = ConcreteHandlerA()\n",
    "handler_b = ConcreteHandlerB(handler_a)\n",
    "\n",
    "handler_b.handle_request('A')\n",
    "handler_b.handle_request('B')\n",
    "handler_b.handle_request('C')"
   ]
  },
  {
   "cell_type": "markdown",
   "metadata": {},
   "source": [
    "## Explicacion:"
   ]
  },
  {
   "cell_type": "markdown",
   "metadata": {},
   "source": [
    "### Clase Handler"
   ]
  },
  {
   "cell_type": "markdown",
   "metadata": {},
   "source": [
    "Esta es una clase base que define la interfaz para manejar las solicitudes. Tiene un método handle_request que toma una solicitud como argumento. Si tiene un sucesor, pasa la solicitud al sucesor."
   ]
  },
  {
   "cell_type": "code",
   "execution_count": null,
   "metadata": {},
   "outputs": [],
   "source": [
    "class Handler:\n",
    "    def __init__(self, successor=None):\n",
    "        self.successor = successor\n",
    "\n",
    "    def handle_request(self, request):\n",
    "        if self.successor:\n",
    "            self.successor.handle_request(request)"
   ]
  },
  {
   "cell_type": "markdown",
   "metadata": {},
   "source": [
    "### Clase ConcreteHandlerA y ConcreteHandlerB:"
   ]
  },
  {
   "cell_type": "markdown",
   "metadata": {},
   "source": [
    "Estas son subclases de Handler. Cada una implementa su propia lógica para manejar una solicitud específica. Si la solicitud coincide con lo que puede manejar ('A' para ConcreteHandlerA y 'B' para ConcreteHandlerB), imprime un mensaje. Si no, pasa la solicitud al sucesor utilizando super().handle_request(request)."
   ]
  },
  {
   "cell_type": "code",
   "execution_count": null,
   "metadata": {},
   "outputs": [],
   "source": [
    "class ConcreteHandlerA(Handler):\n",
    "    def handle_request(self, request):\n",
    "        if request == 'A':\n",
    "            print(\"ConcreteHandlerA handles the request.\")\n",
    "        else:\n",
    "            super().handle_request(request)\n",
    "\n",
    "class ConcreteHandlerB(Handler):\n",
    "    def handle_request(self, request):\n",
    "        if request == 'B':\n",
    "            print(\"ConcreteHandlerB handles the request.\")\n",
    "        else:\n",
    "            super().handle_request(request)"
   ]
  }
 ],
 "metadata": {
  "kernelspec": {
   "display_name": "Python 3",
   "language": "python",
   "name": "python3"
  },
  "language_info": {
   "name": "python",
   "version": "3.12.3"
  }
 },
 "nbformat": 4,
 "nbformat_minor": 2
}
