{
 "cells": [
  {
   "cell_type": "markdown",
   "metadata": {},
   "source": [
    "Connected to Python 3.12.3"
   ]
  },
  {
   "cell_type": "markdown",
   "metadata": {},
   "source": [
    "# Observer"
   ]
  },
  {
   "cell_type": "markdown",
   "metadata": {},
   "source": [
    "## ¿Que es?"
   ]
  },
  {
   "cell_type": "markdown",
   "metadata": {},
   "source": [
    "Define una dependencia uno a muchos entre objetos, de modo que cuando un objeto cambia de estado, todos sus dependientes son notificados y actualizados automáticamente."
   ]
  },
  {
   "cell_type": "markdown",
   "metadata": {},
   "source": [
    "## Ejemplo:"
   ]
  },
  {
   "cell_type": "code",
   "execution_count": null,
   "metadata": {},
   "outputs": [],
   "source": [
    "class Subject:\n",
    "    def __init__(self):\n",
    "        self.observers = []\n",
    "\n",
    "    def attach(self, observer):\n",
    "        self.observers.append(observer)\n",
    "\n",
    "    def detach(self, observer):\n",
    "        self.observers.remove(observer)\n",
    "\n",
    "    def notify(self, event):\n",
    "        for observer in self.observers:\n",
    "            observer.update(event)\n",
    "\n",
    "class Observer:\n",
    "    def update(self, event):\n",
    "        pass\n",
    "\n",
    "class ConcreteObserverA(Observer):\n",
    "    def update(self, event):\n",
    "        print(\"ConcreteObserverA received event:\", event)\n",
    "\n",
    "class ConcreteObserverB(Observer):\n",
    "    def update(self, event):\n",
    "        print(\"ConcreteObserverB received event:\", event)\n",
    "\n",
    "subject = Subject()\n",
    "observer_a = ConcreteObserverA()\n",
    "observer_b = ConcreteObserverB()\n",
    "\n",
    "subject.attach(observer_a)\n",
    "subject.attach(observer_b)\n",
    "\n",
    "subject.notify(\"Event 1\")\n",
    "subject.detach(observer_a)\n",
    "\n",
    "subject.notify(\"Event 2\")"
   ]
  },
  {
   "cell_type": "markdown",
   "metadata": {},
   "source": [
    "## Explicacion:"
   ]
  },
  {
   "cell_type": "markdown",
   "metadata": {},
   "source": [
    "### Clase Subject:"
   ]
  },
  {
   "cell_type": "markdown",
   "metadata": {},
   "source": [
    "- Esta clase representa el sujeto observado. Tiene una lista de observadores y métodos para adjuntar, desadjuntar y notificar a los observadores.\n",
    "\n",
    "- El método attach(observer) agrega un observador a la lista de observadores.\n",
    "\n",
    "- El método detach(observer) elimina un observador de la lista de observadores.\n",
    "\n",
    "- El método notify(event) recorre la lista de observadores y les notifica sobre un evento específico llamando a sus métodos update(event)."
   ]
  },
  {
   "cell_type": "code",
   "execution_count": 1,
   "metadata": {},
   "outputs": [],
   "source": [
    "class Subject:\n",
    "    def __init__(self):\n",
    "        self.observers = []\n",
    "\n",
    "    def attach(self, observer):\n",
    "        self.observers.append(observer)\n",
    "\n",
    "    def detach(self, observer):\n",
    "        self.observers.remove(observer)\n",
    "\n",
    "    def notify(self, event):\n",
    "        for observer in self.observers:\n",
    "            observer.update(event)"
   ]
  },
  {
   "cell_type": "markdown",
   "metadata": {},
   "source": [
    "### Clase Observer:"
   ]
  },
  {
   "cell_type": "markdown",
   "metadata": {},
   "source": [
    "Esta es una clase base abstracta que define la interfaz para los observadores. Tiene un método update(event) que debe ser implementado por las subclases."
   ]
  },
  {
   "cell_type": "code",
   "execution_count": 2,
   "metadata": {},
   "outputs": [],
   "source": [
    "class Observer:\n",
    "    def update(self, event):\n",
    "        pass"
   ]
  },
  {
   "cell_type": "markdown",
   "metadata": {},
   "source": [
    "### Clases ConcreteObserverA y ConcreteObserverB:"
   ]
  },
  {
   "cell_type": "markdown",
   "metadata": {},
   "source": [
    "Estas son subclases de Observer. Cada una implementa el método update(event) para manejar el evento recibido. En este caso, imprimen un mensaje indicando que han recibido el evento y el contenido del evento."
   ]
  },
  {
   "cell_type": "code",
   "execution_count": 3,
   "metadata": {},
   "outputs": [],
   "source": [
    "class ConcreteObserverA(Observer):\n",
    "    def update(self, event):\n",
    "        print(\"ConcreteObserverA received event:\", event)\n",
    "\n",
    "class ConcreteObserverB(Observer):\n",
    "    def update(self, event):\n",
    "        print(\"ConcreteObserverB received event:\", event)"
   ]
  }
 ],
 "metadata": {
  "kernelspec": {
   "display_name": "Python 3",
   "language": "python",
   "name": "python3"
  },
  "language_info": {
   "codemirror_mode": {
    "name": "ipython",
    "version": 3
   },
   "file_extension": ".py",
   "mimetype": "text/x-python",
   "name": "python",
   "nbconvert_exporter": "python",
   "pygments_lexer": "ipython3",
   "version": "3.12.3"
  }
 },
 "nbformat": 4,
 "nbformat_minor": 2
}
