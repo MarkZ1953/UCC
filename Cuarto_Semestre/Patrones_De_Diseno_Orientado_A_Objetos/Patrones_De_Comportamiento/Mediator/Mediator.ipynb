{
 "cells": [
  {
   "cell_type": "markdown",
   "metadata": {},
   "source": [
    "Connected to Python 3.12.3"
   ]
  },
  {
   "cell_type": "markdown",
   "metadata": {},
   "source": [
    "# Mediator"
   ]
  },
  {
   "cell_type": "markdown",
   "metadata": {},
   "source": [
    "## ¿Que es?"
   ]
  },
  {
   "cell_type": "markdown",
   "metadata": {},
   "source": [
    "Este patrón define un objeto que encapsula cómo un conjunto de objetos interactúan. Promueve el acoplamiento débil al evitar que los objetos se refieran unos a otros explícitamente."
   ]
  },
  {
   "cell_type": "markdown",
   "metadata": {},
   "source": [
    "## Ejemplo:"
   ]
  },
  {
   "cell_type": "code",
   "execution_count": null,
   "metadata": {},
   "outputs": [],
   "source": [
    "class Mediator:\n",
    "    def __init__(self):\n",
    "        self.components = []\n",
    "\n",
    "    def add_component(self, component):\n",
    "        self.components.append(component)\n",
    "\n",
    "    def notify(self, sender, event):\n",
    "        for component in self.components:\n",
    "            if component != sender:\n",
    "                component.receive(event)\n",
    "\n",
    "class Component:\n",
    "    def __init__(self, mediator):\n",
    "        self.mediator = mediator\n",
    "\n",
    "    def send(self, event):\n",
    "        self.mediator.notify(self, event)\n",
    "\n",
    "    def receive(self, event):\n",
    "        print(\"Received event:\", event)\n",
    "\n",
    "mediator = Mediator()\n",
    "component1 = Component(mediator)\n",
    "component2 = Component(mediator)\n",
    "mediator.add_component(component1)\n",
    "mediator.add_component(component2)\n",
    "\n",
    "component1.send(\"Hello from component 1\")\n",
    "component2.send(\"Hi from component 2\")"
   ]
  },
  {
   "cell_type": "markdown",
   "metadata": {},
   "source": [
    "## Explicacion:"
   ]
  },
  {
   "cell_type": "markdown",
   "metadata": {},
   "source": [
    "### Clase Mediator:"
   ]
  },
  {
   "cell_type": "markdown",
   "metadata": {},
   "source": [
    "Esta clase actúa como un mediador central que coordina la comunicación entre diferentes componentes. Tiene una lista de componentes registrados y métodos para agregar componentes (add_component) y notificar a todos los componentes excepto al remitente de un evento (notify)."
   ]
  },
  {
   "cell_type": "code",
   "execution_count": 1,
   "metadata": {},
   "outputs": [],
   "source": [
    "class Mediator:\n",
    "    def __init__(self):\n",
    "        self.components = []\n",
    "\n",
    "    def add_component(self, component):\n",
    "        self.components.append(component)\n",
    "\n",
    "    def notify(self, sender, event):\n",
    "        for component in self.components:\n",
    "            if component != sender:\n",
    "                component.receive(event)"
   ]
  },
  {
   "cell_type": "markdown",
   "metadata": {},
   "source": [
    "### Clase Component:"
   ]
  },
  {
   "cell_type": "markdown",
   "metadata": {},
   "source": [
    "- Esta clase representa un componente del sistema que puede enviar y recibir eventos. Tiene una referencia al mediador y métodos para enviar (send) y recibir (receive) eventos.\n",
    "\n",
    "- Cuando un componente envía un evento, invoca el método notify del mediador, pasándose a sí mismo y el evento como argumentos.\n",
    "\n",
    "- Cuando un componente recibe un evento, imprime un mensaje indicando que ha recibido el evento."
   ]
  },
  {
   "cell_type": "code",
   "execution_count": 2,
   "metadata": {},
   "outputs": [],
   "source": [
    "class Component:\n",
    "    def __init__(self, mediator):\n",
    "        self.mediator = mediator\n",
    "\n",
    "    def send(self, event):\n",
    "        self.mediator.notify(self, event)\n",
    "\n",
    "    def receive(self, event):\n",
    "        print(\"Received event:\", event)"
   ]
  }
 ],
 "metadata": {
  "kernelspec": {
   "display_name": "Python 3",
   "language": "python",
   "name": "python3"
  },
  "language_info": {
   "codemirror_mode": {
    "name": "ipython",
    "version": 3
   },
   "file_extension": ".py",
   "mimetype": "text/x-python",
   "name": "python",
   "nbconvert_exporter": "python",
   "pygments_lexer": "ipython3",
   "version": "3.12.3"
  }
 },
 "nbformat": 4,
 "nbformat_minor": 2
}
