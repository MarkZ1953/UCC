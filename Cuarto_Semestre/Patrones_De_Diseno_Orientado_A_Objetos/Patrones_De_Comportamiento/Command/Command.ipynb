{
 "cells": [
  {
   "cell_type": "markdown",
   "metadata": {},
   "source": [
    "Connected to Python 3.12.3"
   ]
  },
  {
   "cell_type": "markdown",
   "metadata": {},
   "source": [
    "# Command"
   ]
  },
  {
   "cell_type": "markdown",
   "metadata": {},
   "source": [
    "## ¿Que es?"
   ]
  },
  {
   "cell_type": "markdown",
   "metadata": {},
   "source": [
    "El patrón Command encapsula una solicitud como un objeto, permitiendo así parametrizar clientes con distintas solicitudes, encolar solicitudes, o registrar solicitudes para ser reversibles."
   ]
  },
  {
   "cell_type": "markdown",
   "metadata": {},
   "source": [
    "## Ejemplo:"
   ]
  },
  {
   "cell_type": "code",
   "execution_count": null,
   "metadata": {},
   "outputs": [],
   "source": [
    "class Command:\n",
    "    def execute(self):\n",
    "        pass\n",
    "\n",
    "class Light:\n",
    "    def turn_on(self):\n",
    "        print(\"Light is on.\")\n",
    "\n",
    "    def turn_off(self):\n",
    "        print(\"Light is off.\")\n",
    "\n",
    "class TurnOnCommand(Command):\n",
    "    def __init__(self, light):\n",
    "        self.light = light\n",
    "\n",
    "    def execute(self):\n",
    "        self.light.turn_on()\n",
    "\n",
    "class TurnOffCommand(Command):\n",
    "    def __init__(self, light):\n",
    "        self.light = light\n",
    "\n",
    "    def execute(self):\n",
    "        self.light.turn_off()\n",
    "\n",
    "# Uso\n",
    "light = Light()\n",
    "turn_on_command = TurnOnCommand(light)\n",
    "turn_off_command = TurnOffCommand(light)\n",
    "\n",
    "turn_on_command.execute()\n",
    "turn_off_command.execute()"
   ]
  },
  {
   "cell_type": "markdown",
   "metadata": {},
   "source": [
    "## Explicacion:"
   ]
  },
  {
   "cell_type": "markdown",
   "metadata": {},
   "source": [
    "### Clase Command:"
   ]
  },
  {
   "cell_type": "markdown",
   "metadata": {},
   "source": [
    "Esta es una clase base que define la interfaz para todos los comandos con un método execute()."
   ]
  },
  {
   "cell_type": "code",
   "execution_count": 1,
   "metadata": {},
   "outputs": [],
   "source": [
    "class Strategy:\n",
    "    def execute_strategy(self):\n",
    "        pass"
   ]
  },
  {
   "cell_type": "markdown",
   "metadata": {},
   "source": [
    "### Clase Light:"
   ]
  },
  {
   "cell_type": "markdown",
   "metadata": {},
   "source": [
    "Esta clase representa un dispositivo que puede ser encendido o apagado. Tiene métodos turn_on() y turn_off() que imprimen mensajes indicando que la luz está encendida o apagada, respectivamente."
   ]
  },
  {
   "cell_type": "code",
   "execution_count": 2,
   "metadata": {},
   "outputs": [],
   "source": [
    "class ConcreteStrategyA(Strategy):\n",
    "    def execute_strategy(self):\n",
    "        print(\"Executing ConcreteStrategyA.\")\n",
    "\n",
    "class ConcreteStrategyB(Strategy):\n",
    "    def execute_strategy(self):\n",
    "        print(\"Executing ConcreteStrategyB.\")"
   ]
  },
  {
   "cell_type": "markdown",
   "metadata": {},
   "source": [
    "### Clases TurnOnCommand y TurnOffCommand:"
   ]
  },
  {
   "cell_type": "markdown",
   "metadata": {},
   "source": [
    "Estas son subclases de Command. Cada una de ellas encapsula una solicitud como un objeto, lo que permite parametrizar otros objetos con peticiones, encolarlas, hacer que se registren y deshacerlas. Cada clase de comando toma una instancia de Light en su constructor para operar sobre ella. Implementan el método execute() que llama al método correspondiente (turn_on() o turn_off()) en el objeto Light."
   ]
  },
  {
   "cell_type": "code",
   "execution_count": 3,
   "metadata": {},
   "outputs": [],
   "source": [
    "class TurnOnCommand(Command):\n",
    "    def __init__(self, light):\n",
    "        self.light = light\n",
    "\n",
    "    def execute(self):\n",
    "        self.light.turn_on()\n",
    "\n",
    "class TurnOffCommand(Command):\n",
    "    def __init__(self, light):\n",
    "        self.light = light\n",
    "\n",
    "    def execute(self):\n",
    "        self.light.turn_off()"
   ]
  }
 ],
 "metadata": {
  "kernelspec": {
   "display_name": "Python 3",
   "language": "python",
   "name": "python3"
  },
  "language_info": {
   "codemirror_mode": {
    "name": "ipython",
    "version": 3
   },
   "file_extension": ".py",
   "mimetype": "text/x-python",
   "name": "python",
   "nbconvert_exporter": "python",
   "pygments_lexer": "ipython3",
   "version": "3.12.3"
  }
 },
 "nbformat": 4,
 "nbformat_minor": 2
}
