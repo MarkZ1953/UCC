{
 "cells": [
  {
   "cell_type": "markdown",
   "metadata": {},
   "source": [
    "Connected to Python 3.12.3"
   ]
  },
  {
   "cell_type": "markdown",
   "metadata": {},
   "source": [
    "# Template_Method"
   ]
  },
  {
   "cell_type": "markdown",
   "metadata": {},
   "source": [
    "## ¿Que es?"
   ]
  },
  {
   "cell_type": "markdown",
   "metadata": {},
   "source": [
    "Define el esqueleto de un algoritmo en la superclase pero permite que las subclases sobrescriban pasos específicos del algoritmo sin cambiar su estructura."
   ]
  },
  {
   "cell_type": "markdown",
   "metadata": {},
   "source": [
    "## Ejemplo:"
   ]
  },
  {
   "cell_type": "code",
   "execution_count": null,
   "metadata": {},
   "outputs": [],
   "source": [
    "class AbstractClass:\n",
    "    def template_method(self):\n",
    "        self.base_operation1()\n",
    "        self.required_operation1()\n",
    "        self.base_operation2()\n",
    "        self.hook1()\n",
    "        self.required_operation2()\n",
    "        self.base_operation3()\n",
    "        self.hook2()\n",
    "\n",
    "    def base_operation1(self):\n",
    "        print(\"AbstractClass: base_operation1\")\n",
    "\n",
    "    def base_operation2(self):\n",
    "        print(\"AbstractClass: base_operation2\")\n",
    "\n",
    "    def base_operation3(self):\n",
    "        print(\"AbstractClass: base_operation3\")\n",
    "\n",
    "    def required_operation1(self):\n",
    "        raise NotImplementedError\n",
    "\n",
    "    def required_operation2(self):\n",
    "        raise NotImplementedError\n",
    "\n",
    "    def hook1(self):\n",
    "        pass\n",
    "\n",
    "    def hook2(self):\n",
    "        pass\n",
    "\n",
    "class ConcreteClass(AbstractClass):\n",
    "    def required_operation1(self):\n",
    "        print(\"ConcreteClass: required_operation1\")\n",
    "\n",
    "    def required_operation2(self):\n",
    "        print(\"ConcreteClass: required_operation2\")\n",
    "\n",
    "    def hook2(self):\n",
    "        print(\"ConcreteClass: hook2\")\n",
    "\n",
    "concrete = ConcreteClass()\n",
    "concrete.template_method()"
   ]
  },
  {
   "cell_type": "markdown",
   "metadata": {},
   "source": [
    "## Explicacion:"
   ]
  },
  {
   "cell_type": "markdown",
   "metadata": {},
   "source": [
    "### Clase Abstracta:"
   ]
  },
  {
   "cell_type": "markdown",
   "metadata": {},
   "source": [
    "- Define un método de plantilla (template_method) que define el esqueleto de un algoritmo. Este método llama a una serie de métodos, algunos de los cuales son abstractos (requieren implementación en subclases) y otros son ganchos (hooks) (opcionalmente sobrescribibles por las subclases).\n",
    "\n",
    "- También proporciona implementaciones por defecto para algunos métodos (base_operation1, base_operation2, base_operation3), que pueden ser sobrescritos por las subclases si es necesario.\n",
    "\n",
    "- Define métodos abstractos (required_operation1 y required_operation2) que deben ser implementados por las subclases.\n",
    "\n",
    "- Define ganchos (hook1 y hook2) que son métodos vacíos que las subclases pueden optar por sobrescribir."
   ]
  },
  {
   "cell_type": "code",
   "execution_count": 1,
   "metadata": {},
   "outputs": [],
   "source": [
    "class AbstractClass:\n",
    "    def template_method(self):\n",
    "        self.base_operation1()\n",
    "        self.required_operation1()\n",
    "        self.base_operation2()\n",
    "        self.hook1()\n",
    "        self.required_operation2()\n",
    "        self.base_operation3()\n",
    "        self.hook2()\n",
    "\n",
    "    def base_operation1(self):\n",
    "        print(\"AbstractClass: base_operation1\")\n",
    "\n",
    "    def base_operation2(self):\n",
    "        print(\"AbstractClass: base_operation2\")\n",
    "\n",
    "    def base_operation3(self):\n",
    "        print(\"AbstractClass: base_operation3\")\n",
    "\n",
    "    def required_operation1(self):\n",
    "        raise NotImplementedError\n",
    "\n",
    "    def required_operation2(self):\n",
    "        raise NotImplementedError\n",
    "\n",
    "    def hook1(self):\n",
    "        pass\n",
    "\n",
    "    def hook2(self):\n",
    "        pass"
   ]
  },
  {
   "cell_type": "markdown",
   "metadata": {},
   "source": [
    "### Clase Concreta:"
   ]
  },
  {
   "cell_type": "markdown",
   "metadata": {},
   "source": [
    "- Implementa los métodos abstractos required_operation1 y required_operation2 especificados por la clase abstracta.\n",
    "\n",
    "- Opcionalmente sobrescribe el gancho hook2, proporcionando una implementación específica."
   ]
  },
  {
   "cell_type": "code",
   "execution_count": 2,
   "metadata": {},
   "outputs": [],
   "source": [
    "class ConcreteClass(AbstractClass):\n",
    "    def required_operation1(self):\n",
    "        print(\"ConcreteClass: required_operation1\")\n",
    "\n",
    "    def required_operation2(self):\n",
    "        print(\"ConcreteClass: required_operation2\")\n",
    "\n",
    "    def hook2(self):\n",
    "        print(\"ConcreteClass: hook2\")"
   ]
  }
 ],
 "metadata": {
  "kernelspec": {
   "display_name": "Python 3",
   "language": "python",
   "name": "python3"
  },
  "language_info": {
   "codemirror_mode": {
    "name": "ipython",
    "version": 3
   },
   "file_extension": ".py",
   "mimetype": "text/x-python",
   "name": "python",
   "nbconvert_exporter": "python",
   "pygments_lexer": "ipython3",
   "version": "3.12.3"
  }
 },
 "nbformat": 4,
 "nbformat_minor": 2
}
