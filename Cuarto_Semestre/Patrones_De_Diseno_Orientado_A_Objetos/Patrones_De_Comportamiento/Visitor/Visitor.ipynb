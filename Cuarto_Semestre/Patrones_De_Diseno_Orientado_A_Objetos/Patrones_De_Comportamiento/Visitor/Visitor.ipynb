{
 "cells": [
  {
   "cell_type": "markdown",
   "metadata": {},
   "source": [
    "Connected to Python 3.12.3"
   ]
  },
  {
   "cell_type": "markdown",
   "metadata": {},
   "source": [
    "# Visitor"
   ]
  },
  {
   "cell_type": "markdown",
   "metadata": {},
   "source": [
    "## ¿Que es?"
   ]
  },
  {
   "cell_type": "markdown",
   "metadata": {},
   "source": [
    "Permite agregar nuevas operaciones a una estructura de objetos sin cambiar los objetos mismos. Es útil cuando se tienen estructuras de objetos con tipos estables, pero con operaciones que varían y deben ser agregadas."
   ]
  },
  {
   "cell_type": "markdown",
   "metadata": {},
   "source": [
    "## Ejemplo:"
   ]
  },
  {
   "cell_type": "code",
   "execution_count": null,
   "metadata": {},
   "outputs": [],
   "source": [
    "class Visitor:\n",
    "    def visit(self, element):\n",
    "        pass\n",
    "\n",
    "class ConcreteVisitorA(Visitor):\n",
    "    def visit(self, element):\n",
    "        print(\"ConcreteVisitorA is visiting\", element)\n",
    "\n",
    "class ConcreteVisitorB(Visitor):\n",
    "    def visit(self, element):\n",
    "        print(\"ConcreteVisitorB is visiting\", element)\n",
    "\n",
    "class Element:\n",
    "    def accept(self, visitor):\n",
    "        pass\n",
    "\n",
    "class ConcreteElementA(Element):\n",
    "    def accept(self, visitor):\n",
    "        visitor.visit(self)\n",
    "\n",
    "class ConcreteElementB(Element):\n",
    "    def accept(self, visitor):\n",
    "        visitor.visit(self)\n",
    "\n",
    "visitor_a = ConcreteVisitorA()\n",
    "visitor_b = ConcreteVisitorB()\n",
    "\n",
    "element_a = ConcreteElementA()\n",
    "element_b = ConcreteElementB()\n",
    "\n",
    "element_a.accept(visitor_a)\n",
    "element_a.accept(visitor_b)\n",
    "\n",
    "element_b.accept(visitor_a)\n",
    "element_b.accept(visitor_b)"
   ]
  },
  {
   "cell_type": "markdown",
   "metadata": {},
   "source": [
    "## Explicacion:"
   ]
  },
  {
   "cell_type": "markdown",
   "metadata": {},
   "source": [
    "### Clase Visitor:"
   ]
  },
  {
   "cell_type": "markdown",
   "metadata": {},
   "source": [
    "Esta es una clase base abstracta que define una interfaz para las operaciones de visita en los elementos. En este caso, tiene un método visit(element) que toma un elemento como argumento y debe ser implementado por las subclases."
   ]
  },
  {
   "cell_type": "code",
   "execution_count": 1,
   "metadata": {},
   "outputs": [],
   "source": [
    "class Visitor:\n",
    "    def visit(self, element):\n",
    "        pass"
   ]
  },
  {
   "cell_type": "markdown",
   "metadata": {},
   "source": [
    "### Clases ConcreteVisitorA y ConcreteVisitorB:"
   ]
  },
  {
   "cell_type": "markdown",
   "metadata": {},
   "source": [
    "Estas son subclases de Visitor. Cada una implementa una operación de visita específica para los elementos. En este caso, ConcreteVisitorA y ConcreteVisitorB imprimen un mensaje indicando que están visitando un elemento particular."
   ]
  },
  {
   "cell_type": "code",
   "execution_count": 2,
   "metadata": {},
   "outputs": [],
   "source": [
    "class ConcreteVisitorA(Visitor):\n",
    "    def visit(self, element):\n",
    "        print(\"ConcreteVisitorA is visiting\", element)\n",
    "\n",
    "class ConcreteVisitorB(Visitor):\n",
    "    def visit(self, element):\n",
    "        print(\"ConcreteVisitorB is visiting\", element)"
   ]
  },
  {
   "cell_type": "markdown",
   "metadata": {},
   "source": [
    "### Clase Element:"
   ]
  },
  {
   "cell_type": "markdown",
   "metadata": {},
   "source": [
    "Esta es una clase base abstracta que define una interfaz para los elementos que pueden ser visitados. Tiene un método accept(visitor) que toma un objeto Visitor como argumento y debe ser implementado por las subclases."
   ]
  },
  {
   "cell_type": "code",
   "execution_count": 3,
   "metadata": {},
   "outputs": [],
   "source": [
    "class Element:\n",
    "    def accept(self, visitor):\n",
    "        pass"
   ]
  },
  {
   "cell_type": "markdown",
   "metadata": {},
   "source": [
    "### Clases ConcreteElementA y ConcreteElementB:"
   ]
  },
  {
   "cell_type": "markdown",
   "metadata": {},
   "source": [
    "Estas son subclases de Element. Cada una implementa el método accept(visitor) para llamar al método visit(self) del objeto Visitor proporcionado como argumento."
   ]
  },
  {
   "cell_type": "code",
   "execution_count": null,
   "metadata": {},
   "outputs": [],
   "source": [
    "class ConcreteElementA(Element):\n",
    "    def accept(self, visitor):\n",
    "        visitor.visit(self)\n",
    "\n",
    "class ConcreteElementB(Element):\n",
    "    def accept(self, visitor):\n",
    "        visitor.visit(self)"
   ]
  }
 ],
 "metadata": {
  "kernelspec": {
   "display_name": "Python 3",
   "language": "python",
   "name": "python3"
  },
  "language_info": {
   "codemirror_mode": {
    "name": "ipython",
    "version": 3
   },
   "file_extension": ".py",
   "mimetype": "text/x-python",
   "name": "python",
   "nbconvert_exporter": "python",
   "pygments_lexer": "ipython3",
   "version": "3.12.3"
  }
 },
 "nbformat": 4,
 "nbformat_minor": 2
}
