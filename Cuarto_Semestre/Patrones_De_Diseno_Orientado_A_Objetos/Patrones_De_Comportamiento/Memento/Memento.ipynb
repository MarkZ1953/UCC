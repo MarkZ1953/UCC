{
 "cells": [
  {
   "cell_type": "markdown",
   "metadata": {},
   "source": [
    "Connected to Python 3.12.3"
   ]
  },
  {
   "cell_type": "markdown",
   "metadata": {},
   "source": [
    "# Memento"
   ]
  },
  {
   "cell_type": "markdown",
   "metadata": {},
   "source": [
    "## ¿Que es?"
   ]
  },
  {
   "cell_type": "markdown",
   "metadata": {},
   "source": [
    "Permite capturar y restaurar el estado interno de un objeto sin violar la encapsulación."
   ]
  },
  {
   "cell_type": "markdown",
   "metadata": {},
   "source": [
    "## Ejemplo:"
   ]
  },
  {
   "cell_type": "code",
   "execution_count": null,
   "metadata": {},
   "outputs": [],
   "source": [
    "class Memento:\n",
    "    def __init__(self, state):\n",
    "        self.state = state\n",
    "\n",
    "class Originator:\n",
    "    def __init__(self):\n",
    "        self.state = \"\"\n",
    "\n",
    "    def set_state(self, state):\n",
    "        self.state = state\n",
    "\n",
    "    def save_to_memento(self):\n",
    "        return Memento(self.state)\n",
    "\n",
    "    def restore_from_memento(self, memento):\n",
    "        self.state = memento.state\n",
    "\n",
    "# Uso\n",
    "originator = Originator()\n",
    "originator.set_state(\"State 1\")\n",
    "print(\"Current state:\", originator.state)\n",
    "\n",
    "memento = originator.save_to_memento()\n",
    "\n",
    "originator.set_state(\"State 2\")\n",
    "print(\"Current state:\", originator.state)\n",
    "\n",
    "originator.restore_from_memento(memento)\n",
    "print(\"Restored state:\", originator.state)\n"
   ]
  },
  {
   "cell_type": "markdown",
   "metadata": {},
   "source": [
    "## Explicacion:"
   ]
  },
  {
   "cell_type": "markdown",
   "metadata": {},
   "source": [
    "### Clase Memento:"
   ]
  },
  {
   "cell_type": "markdown",
   "metadata": {},
   "source": [
    "Esta clase representa un objeto de memento que almacena el estado de otro objeto en un momento dado. En este caso, simplemente almacena el estado en un atributo state."
   ]
  },
  {
   "cell_type": "code",
   "execution_count": 1,
   "metadata": {},
   "outputs": [],
   "source": [
    "class Memento:\n",
    "    def __init__(self, state):\n",
    "        self.state = state"
   ]
  },
  {
   "cell_type": "markdown",
   "metadata": {},
   "source": [
    "### Clase Originator:"
   ]
  },
  {
   "cell_type": "markdown",
   "metadata": {},
   "source": [
    "Esta clase es el origen del objeto cuyo estado queremos guardar y restaurar. Tiene un atributo de estado y métodos para establecer el estado (set_state), guardar el estado en un memento (save_to_memento) y restaurar el estado desde un memento (restore_from_memento)."
   ]
  },
  {
   "cell_type": "code",
   "execution_count": 2,
   "metadata": {},
   "outputs": [],
   "source": [
    "class Originator:\n",
    "    def __init__(self):\n",
    "        self.state = \"\"\n",
    "\n",
    "    def set_state(self, state):\n",
    "        self.state = state\n",
    "\n",
    "    def save_to_memento(self):\n",
    "        return Memento(self.state)\n",
    "\n",
    "    def restore_from_memento(self, memento):\n",
    "        self.state = memento.state"
   ]
  }
 ],
 "metadata": {
  "kernelspec": {
   "display_name": "Python 3",
   "language": "python",
   "name": "python3"
  },
  "language_info": {
   "codemirror_mode": {
    "name": "ipython",
    "version": 3
   },
   "file_extension": ".py",
   "mimetype": "text/x-python",
   "name": "python",
   "nbconvert_exporter": "python",
   "pygments_lexer": "ipython3",
   "version": "3.12.3"
  }
 },
 "nbformat": 4,
 "nbformat_minor": 2
}
