{
 "cells": [
  {
   "cell_type": "markdown",
   "metadata": {},
   "source": [
    "Connected to Python 3.12.3"
   ]
  },
  {
   "cell_type": "markdown",
   "metadata": {},
   "source": [
    "# Interpreter"
   ]
  },
  {
   "cell_type": "markdown",
   "metadata": {},
   "source": [
    "## ¿Que es?"
   ]
  },
  {
   "cell_type": "markdown",
   "metadata": {},
   "source": [
    "Este patrón define una gramática para un lenguaje y proporciona un intérprete para interpretar sentencias en el lenguaje."
   ]
  },
  {
   "cell_type": "markdown",
   "metadata": {},
   "source": [
    "## Ejemplo:"
   ]
  },
  {
   "cell_type": "code",
   "execution_count": null,
   "metadata": {},
   "outputs": [],
   "source": [
    "class Expression:\n",
    "    def interpret(self, context):\n",
    "        pass\n",
    "\n",
    "class Number(Expression):\n",
    "    def __init__(self, number):\n",
    "        self.number = number\n",
    "\n",
    "    def interpret(self, context):\n",
    "        return self.number\n",
    "\n",
    "class Plus(Expression):\n",
    "    def __init__(self, left, right):\n",
    "        self.left = left\n",
    "        self.right = right\n",
    "\n",
    "    def interpret(self, context):\n",
    "        return self.left.interpret(context) + self.right.interpret(context)\n",
    "\n",
    "expression = Plus(Number(5), Number(3))\n",
    "result = expression.interpret({})\n",
    "print(\"Result:\", result)\n"
   ]
  },
  {
   "cell_type": "markdown",
   "metadata": {},
   "source": [
    "## Explicacion:"
   ]
  },
  {
   "cell_type": "markdown",
   "metadata": {},
   "source": [
    "### Clase Expression:"
   ]
  },
  {
   "cell_type": "markdown",
   "metadata": {},
   "source": [
    "Esta es una clase base abstracta que define la interfaz para las expresiones interpretativas. Tiene un método interpret(context) que toma un contexto como argumento. La implementación de este método debe ser proporcionada por las subclases."
   ]
  },
  {
   "cell_type": "code",
   "execution_count": 1,
   "metadata": {},
   "outputs": [],
   "source": [
    "class Expression:\n",
    "    def interpret(self, context):\n",
    "        pass"
   ]
  },
  {
   "cell_type": "markdown",
   "metadata": {},
   "source": [
    "### Clase Number:"
   ]
  },
  {
   "cell_type": "markdown",
   "metadata": {},
   "source": [
    "Esta clase representa una expresión que simplemente devuelve un número. Toma un número en su constructor y lo almacena. Su método interpret(context) simplemente devuelve el número almacenado."
   ]
  },
  {
   "cell_type": "code",
   "execution_count": 2,
   "metadata": {},
   "outputs": [],
   "source": [
    "class Number(Expression):\n",
    "    def __init__(self, number):\n",
    "        self.number = number\n",
    "\n",
    "    def interpret(self, context):\n",
    "        return self.number"
   ]
  },
  {
   "cell_type": "markdown",
   "metadata": {},
   "source": [
    "### Clase Plus:"
   ]
  },
  {
   "cell_type": "markdown",
   "metadata": {},
   "source": [
    "Esta clase representa una expresión que suma dos expresiones. Toma dos expresiones (izquierda y derecha) en su constructor. Su método interpret(context) evalúa las expresiones izquierda y derecha y devuelve la suma de sus resultados."
   ]
  },
  {
   "cell_type": "code",
   "execution_count": 3,
   "metadata": {},
   "outputs": [],
   "source": [
    "class Plus(Expression):\n",
    "    def __init__(self, left, right):\n",
    "        self.left = left\n",
    "        self.right = right\n",
    "\n",
    "    def interpret(self, context):\n",
    "        return self.left.interpret(context) + self.right.interpret(context)"
   ]
  }
 ],
 "metadata": {
  "kernelspec": {
   "display_name": "Python 3",
   "language": "python",
   "name": "python3"
  },
  "language_info": {
   "codemirror_mode": {
    "name": "ipython",
    "version": 3
   },
   "file_extension": ".py",
   "mimetype": "text/x-python",
   "name": "python",
   "nbconvert_exporter": "python",
   "pygments_lexer": "ipython3",
   "version": "3.12.3"
  }
 },
 "nbformat": 4,
 "nbformat_minor": 2
}
