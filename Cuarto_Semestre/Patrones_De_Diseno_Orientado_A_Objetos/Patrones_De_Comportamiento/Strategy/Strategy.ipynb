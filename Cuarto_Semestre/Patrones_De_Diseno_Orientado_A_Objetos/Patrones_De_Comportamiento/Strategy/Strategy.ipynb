{
 "cells": [
  {
   "cell_type": "markdown",
   "metadata": {},
   "source": [
    "Connected to Python 3.12.3"
   ]
  },
  {
   "cell_type": "markdown",
   "metadata": {},
   "source": [
    "# Strategy"
   ]
  },
  {
   "cell_type": "markdown",
   "metadata": {},
   "source": [
    "## ¿Que es?"
   ]
  },
  {
   "cell_type": "markdown",
   "metadata": {},
   "source": [
    "Define una familia de algoritmos, encapsula cada uno de ellos y los hace intercambiables. Permite que el algoritmo varíe independientemente de los clientes que lo usan."
   ]
  },
  {
   "cell_type": "markdown",
   "metadata": {},
   "source": [
    "## Ejemplo:"
   ]
  },
  {
   "cell_type": "code",
   "execution_count": null,
   "metadata": {},
   "outputs": [],
   "source": [
    "class Strategy:\n",
    "    def execute_strategy(self):\n",
    "        pass\n",
    "\n",
    "class ConcreteStrategyA(Strategy):\n",
    "    def execute_strategy(self):\n",
    "        print(\"Executing ConcreteStrategyA.\")\n",
    "\n",
    "class ConcreteStrategyB(Strategy):\n",
    "    def execute_strategy(self):\n",
    "        print(\"Executing ConcreteStrategyB.\")\n",
    "\n",
    "class Context:\n",
    "    def __init__(self, strategy):\n",
    "        self.strategy = strategy\n",
    "\n",
    "    def execute_strategy(self):\n",
    "        self.strategy.execute_strategy()\n",
    "\n",
    "context = Context(ConcreteStrategyA())\n",
    "context.execute_strategy()\n",
    "\n",
    "context2 = Context(ConcreteStrategyB())\n",
    "context2.execute_strategy()"
   ]
  },
  {
   "cell_type": "markdown",
   "metadata": {},
   "source": [
    "## Explicacion:"
   ]
  },
  {
   "cell_type": "markdown",
   "metadata": {},
   "source": [
    "### Clase Strategy:"
   ]
  },
  {
   "cell_type": "markdown",
   "metadata": {},
   "source": [
    "Esta es una clase base que define una interfaz común para todos los algoritmos soportados. En este caso, el método execute_strategy es el método que representa la operación que varía en función de la estrategia."
   ]
  },
  {
   "cell_type": "code",
   "execution_count": 1,
   "metadata": {},
   "outputs": [],
   "source": [
    "class Strategy:\n",
    "    def execute_strategy(self):\n",
    "        pass"
   ]
  },
  {
   "cell_type": "markdown",
   "metadata": {},
   "source": [
    "### Clases ConcreteStrategyA y ConcreteStrategyB:"
   ]
  },
  {
   "cell_type": "markdown",
   "metadata": {},
   "source": [
    "Estas son subclases de Strategy. Cada una implementa un algoritmo específico. En este caso, ConcreteStrategyA imprime un mensaje que indica que está ejecutando la estrategia A, y ConcreteStrategyB imprime un mensaje similar para la estrategia B."
   ]
  },
  {
   "cell_type": "code",
   "execution_count": 2,
   "metadata": {},
   "outputs": [],
   "source": [
    "class ConcreteStrategyA(Strategy):\n",
    "    def execute_strategy(self):\n",
    "        print(\"Executing ConcreteStrategyA.\")\n",
    "\n",
    "class ConcreteStrategyB(Strategy):\n",
    "    def execute_strategy(self):\n",
    "        print(\"Executing ConcreteStrategyB.\")"
   ]
  },
  {
   "cell_type": "markdown",
   "metadata": {},
   "source": [
    "### Clase Context:"
   ]
  },
  {
   "cell_type": "markdown",
   "metadata": {},
   "source": [
    "Esta clase mantiene una referencia a un objeto de la clase Strategy. Es donde se lleva a cabo la comunicación entre el cliente y la estrategia. Su método execute_strategy delega la ejecución del algoritmo al objeto de estrategia correspondiente."
   ]
  },
  {
   "cell_type": "code",
   "execution_count": 3,
   "metadata": {},
   "outputs": [],
   "source": [
    "class Context:\n",
    "    def __init__(self, strategy):\n",
    "        self.strategy = strategy\n",
    "\n",
    "    def execute_strategy(self):\n",
    "        self.strategy.execute_strategy()"
   ]
  }
 ],
 "metadata": {
  "kernelspec": {
   "display_name": "Python 3",
   "language": "python",
   "name": "python3"
  },
  "language_info": {
   "codemirror_mode": {
    "name": "ipython",
    "version": 3
   },
   "file_extension": ".py",
   "mimetype": "text/x-python",
   "name": "python",
   "nbconvert_exporter": "python",
   "pygments_lexer": "ipython3",
   "version": "3.12.3"
  }
 },
 "nbformat": 4,
 "nbformat_minor": 2
}
