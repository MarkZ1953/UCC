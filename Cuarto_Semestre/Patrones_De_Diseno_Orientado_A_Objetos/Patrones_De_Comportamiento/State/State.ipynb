{
 "cells": [
  {
   "cell_type": "markdown",
   "metadata": {},
   "source": [
    "Connected to Python 3.12.3"
   ]
  },
  {
   "cell_type": "markdown",
   "metadata": {},
   "source": [
    "# State"
   ]
  },
  {
   "cell_type": "markdown",
   "metadata": {},
   "source": [
    "## ¿Que es?"
   ]
  },
  {
   "cell_type": "markdown",
   "metadata": {},
   "source": [
    "Permite que un objeto altere su comportamiento cuando su estado interno cambia. Parece como si el objeto cambiara de clase."
   ]
  },
  {
   "cell_type": "markdown",
   "metadata": {},
   "source": [
    "## Ejemplo:"
   ]
  },
  {
   "cell_type": "code",
   "execution_count": null,
   "metadata": {},
   "outputs": [],
   "source": [
    "class State:\n",
    "    def handle(self):\n",
    "        pass\n",
    "\n",
    "class ConcreteStateA(State):\n",
    "    def handle(self):\n",
    "        print(\"ConcreteStateA is handling the request.\")\n",
    "\n",
    "class ConcreteStateB(State):\n",
    "    def handle(self):\n",
    "        print(\"ConcreteStateB is handling the request.\")\n",
    "\n",
    "class Context:\n",
    "    def __init__(self, state):\n",
    "        self.state = state\n",
    "\n",
    "    def request(self):\n",
    "        self.state.handle()\n",
    "\n",
    "context = Context(ConcreteStateA())\n",
    "context.request()\n",
    "\n",
    "context.state = ConcreteStateB()\n",
    "context.request()"
   ]
  },
  {
   "cell_type": "markdown",
   "metadata": {},
   "source": [
    "## Explicacion:"
   ]
  },
  {
   "cell_type": "markdown",
   "metadata": {},
   "source": [
    "### Clase State:"
   ]
  },
  {
   "cell_type": "markdown",
   "metadata": {},
   "source": [
    "Esta es una clase base abstracta que define la interfaz para los distintos estados del contexto. En este caso, tiene un método handle() que debe ser implementado por las subclases."
   ]
  },
  {
   "cell_type": "code",
   "execution_count": 1,
   "metadata": {},
   "outputs": [],
   "source": [
    "class State:\n",
    "    def handle(self):\n",
    "        pass"
   ]
  },
  {
   "cell_type": "markdown",
   "metadata": {},
   "source": [
    "### Clases ConcreteStateA y ConcreteStateB:"
   ]
  },
  {
   "cell_type": "markdown",
   "metadata": {},
   "source": [
    "Estas son subclases de State. Cada una implementa un comportamiento específico para un estado del contexto. En este caso, ConcreteStateA y ConcreteStateB imprimen un mensaje indicando que están manejando la solicitud."
   ]
  },
  {
   "cell_type": "code",
   "execution_count": 2,
   "metadata": {},
   "outputs": [],
   "source": [
    "class ConcreteStateA(State):\n",
    "    def handle(self):\n",
    "        print(\"ConcreteStateA is handling the request.\")\n",
    "\n",
    "class ConcreteStateB(State):\n",
    "    def handle(self):\n",
    "        print(\"ConcreteStateB is handling the request.\")"
   ]
  },
  {
   "cell_type": "markdown",
   "metadata": {},
   "source": [
    "### Clase Context:"
   ]
  },
  {
   "cell_type": "markdown",
   "metadata": {},
   "source": [
    "Esta clase mantiene una referencia al estado actual del contexto y proporciona un método request() que delega el manejo de la solicitud al estado actual llamando a su método handle()."
   ]
  },
  {
   "cell_type": "code",
   "execution_count": 3,
   "metadata": {},
   "outputs": [],
   "source": [
    "class Context:\n",
    "    def __init__(self, state):\n",
    "        self.state = state\n",
    "\n",
    "    def request(self):\n",
    "        self.state.handle()"
   ]
  }
 ],
 "metadata": {
  "kernelspec": {
   "display_name": "Python 3",
   "language": "python",
   "name": "python3"
  },
  "language_info": {
   "codemirror_mode": {
    "name": "ipython",
    "version": 3
   },
   "file_extension": ".py",
   "mimetype": "text/x-python",
   "name": "python",
   "nbconvert_exporter": "python",
   "pygments_lexer": "ipython3",
   "version": "3.12.3"
  }
 },
 "nbformat": 4,
 "nbformat_minor": 2
}
